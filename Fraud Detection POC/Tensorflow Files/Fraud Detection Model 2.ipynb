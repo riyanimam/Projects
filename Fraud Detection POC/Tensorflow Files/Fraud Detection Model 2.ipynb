{
 "cells": [
  {
   "cell_type": "code",
   "execution_count": 218,
   "metadata": {
    "collapsed": true
   },
   "outputs": [],
   "source": [
    "import numpy as np\n",
    "import pandas as pd\n",
    "import random\n",
    "\n",
    "from random import randint\n",
    "\n",
    "import re\n",
    "import json\n",
    "import itertools"
   ]
  },
  {
   "cell_type": "code",
   "execution_count": 219,
   "metadata": {
    "collapsed": true
   },
   "outputs": [],
   "source": [
    "#start_time = time.time()\n",
    "\n",
    "#file = open(\"payments/readpayments.txt\", 'r')\n",
    "file = open(\"payments/payments.txt\", 'r')\n",
    "generalRegex = ' - \\[-*\\w(.*)\\.net(.*)\\d{1,3}\\.\\d{1,3}\\.\\d{1,3}\\.\\d{1,3}'\n",
    "ipRegex = '\\d{1,3}\\.\\d{1,3}\\.\\d{1,3}\\.\\d{1,3}'\n",
    "userIDRegex = '-*\\w(.*)\\.net'\n",
    "jsonRegex = '\\{(.*)\\}'\n",
    "dictOfAccts = {}\n",
    "\n",
    "#Reads each line of passed in file\n",
    "lines = file.readlines()\n",
    "\n",
    "#The object where we hold all values associated with an account\n",
    "class accountInfo:\n",
    "    def __init__(self, numOfID, numOfIP, numOfPay, avgPay, numOfCC):\n",
    "        self.numOfID = numOfID\n",
    "        self.numOfIP = numOfIP\n",
    "        self.numOfPay = numOfPay\n",
    "        self.avgPay = avgPay\n",
    "        self.numOfCC = numOfCC\n",
    "    \n",
    "    #Gets UserID\n",
    "    def getID(self):\n",
    "        return self.numOfID\n",
    "    \n",
    "    #Gets User's IP\n",
    "    def getIP(self):\n",
    "        return self.numOfIP\n",
    "    \n",
    "    #Gets the amount paid for that log entry\n",
    "    def getPay(self):\n",
    "        return self.numOfPay\n",
    "    \n",
    "    #Gets the amount paid for that log entry (averages out amount paid)\n",
    "    def getAvgPay(self):\n",
    "        return self.avgPay\n",
    "    \n",
    "    #Gets the credit card number for associated account\n",
    "    def getCC(self):\n",
    "        return self.numOfCC\n",
    "    \n",
    "    #Makes any User IDs in the object a list\n",
    "    def addID(self, user):\n",
    "        temp = self.numOfID\n",
    "        if isinstance(user, list):\n",
    "            user.append(temp)\n",
    "            self.numOfID = user\n",
    "        else:\n",
    "            lister = []\n",
    "            lister.append(user)\n",
    "            lister.append(temp)\n",
    "            self.numOfID = lister\n",
    "    \n",
    "    #Makes any User IPs in the object a list\n",
    "    def addIP(self, user):\n",
    "        temp = self.numOfIP\n",
    "        if isinstance(user, list):\n",
    "            user.append(temp)\n",
    "            self.numOfIP = user\n",
    "        else:\n",
    "            lister = []\n",
    "            lister.append(user)\n",
    "            lister.append(temp)\n",
    "            self.numOfIP = lister\n",
    "        \n",
    "    #Makes any Amount Paid in the object a list\n",
    "    def addPay(self, user):\n",
    "        temp = self.numOfPay\n",
    "        if isinstance(user, list):\n",
    "            user.append(temp)\n",
    "            self.numOfPay = user\n",
    "        else:\n",
    "            lister = []\n",
    "            lister.append(user)\n",
    "            lister.append(temp)\n",
    "            self.numOfPay = lister\n",
    "        \n",
    "    #Makes any Amount Paid in the object a list\n",
    "    def addAvgPay(self, user):\n",
    "        temp = self.avgPay\n",
    "        if isinstance(user, list):\n",
    "            user.append(temp)\n",
    "            self.avgPay = user\n",
    "        else:\n",
    "            lister = []\n",
    "            lister.append(user)\n",
    "            lister.append(temp)\n",
    "            self.avgPay = lister\n",
    "        \n",
    "    #Makes any credit cards in the object a list\n",
    "    def addCC(self, user):\n",
    "        temp = self.numOfCC\n",
    "        if isinstance(user, list):\n",
    "            user.append(temp)\n",
    "            self.numOfCC = user\n",
    "        else:\n",
    "            lister = []\n",
    "            lister.append(user)\n",
    "            lister.append(temp)\n",
    "            self.numOfCC = lister\n",
    "            \n",
    "    #Counts up the list of items in list\n",
    "    def idCounter(self):\n",
    "        temp = self.numOfID\n",
    "        tempCounter = 1\n",
    "        if isinstance(temp, str):\n",
    "            temp = 1\n",
    "        elif isinstance(temp, list):\n",
    "            for a, b in itertools.combinations(temp, 2):\n",
    "                if(a == b):\n",
    "                    tempCounter = 1\n",
    "                elif(a != b):\n",
    "                    tempCounter = tempCounter + 1\n",
    "            temp = tempCounter\n",
    "        self.numOfID = temp\n",
    "    \n",
    "    #Counts up the list of items in list\n",
    "    def ipCounter(self):\n",
    "        temp = self.numOfIP\n",
    "        tempCounter = 1\n",
    "        if isinstance(temp, str):\n",
    "            temp = 1\n",
    "        elif isinstance(temp, list):\n",
    "            for a, b in itertools.combinations(temp, 2):\n",
    "                if(a == b):\n",
    "                    tempCounter = 1\n",
    "                elif(a != b):\n",
    "                    tempCounter = tempCounter + 1\n",
    "            temp = tempCounter\n",
    "        self.numOfIP = temp\n",
    "    \n",
    "    #Counts up the list of items in list\n",
    "    def payCounter(self):\n",
    "        temp = self.numOfPay\n",
    "        tempCounter = 1\n",
    "        if isinstance(temp, float) or isinstance(temp, str):\n",
    "            if temp == 'NoPaymentsKey' or temp == 'NoTendered':\n",
    "                temp = 0\n",
    "            else:\n",
    "                temp = 1\n",
    "        elif isinstance(temp, list):\n",
    "            for a, b in itertools.combinations(temp, 2):\n",
    "                if((a == 'NoPaymentsKey' or a == 'NoTendered') and (b == 'NoPaymentsKey' or b == 'NoTendered')):\n",
    "                    tempCounter =  tempCounter + 0\n",
    "                elif(a == b):\n",
    "                    if(tempCounter == 1):\n",
    "                        tempCounter = tempCounter + 1\n",
    "                    else:\n",
    "                        tempCounter = 1\n",
    "                elif(a != b):\n",
    "                    tempCounter = tempCounter + 1\n",
    "            temp = tempCounter\n",
    "        self.numOfPay = temp\n",
    "            \n",
    "    #Counts up the list of items in list AND averages the payment amounts       \n",
    "    def avgPayCounter(self):\n",
    "        temp = self.avgPay\n",
    "        tempCounter = 0.0\n",
    "        if isinstance(temp, float) or isinstance(temp, str):\n",
    "            if temp == 'NoPaymentsKey' or temp == 'NoEnding':\n",
    "                temp = 0.0\n",
    "        elif isinstance(temp, list):\n",
    "            tempLen = len(temp)\n",
    "            for a in range(len(temp)):\n",
    "                if(temp[a] == 'NoPaymentsKey' or temp[a] == 'NoEnding'):\n",
    "                    temp[a] = 0.0\n",
    "                    if(tempLen > 1):\n",
    "                        tempLen = tempLen - 1\n",
    "                tempCounter = tempCounter + temp[a]\n",
    "            temp = tempCounter / tempLen\n",
    "        self.avgPay = temp\n",
    "    \n",
    "    #Counts up the list of items in list    \n",
    "    def ccCounter(self):\n",
    "        temp = self.numOfCC\n",
    "        tempCounter = 1\n",
    "        if isinstance(temp, str):\n",
    "            if temp == 'NoPaymentsKey' or temp == 'NoCC':\n",
    "                temp = 0\n",
    "            else:\n",
    "                temp = 1\n",
    "        elif isinstance(temp, list):\n",
    "            for a, b in itertools.combinations(temp, 2):\n",
    "                if((a == 'NoPaymentsKey' or a == 'NoCC') and (b == 'NoPaymentsKey' or b == 'NoCC')):\n",
    "                    tempCounter =  tempCounter + 0\n",
    "                elif(a == b):\n",
    "                    if(tempCounter == 1):\n",
    "                        tempCounter = tempCounter + 1\n",
    "                    else:\n",
    "                        tempCounter = 1\n",
    "                elif(a != b):\n",
    "                    tempCounter = tempCounter + 1\n",
    "            temp = tempCounter\n",
    "        self.numOfCC = temp\n",
    "        \n",
    "    #Allows us to print out the objects in a \"string\" form (Used for testing purposes)\n",
    "    def __repr__(self):\n",
    "        return \"%s, %s, %s, %s, %s\" % (self.numOfID, self.numOfIP, self.numOfPay, self.avgPay, self.numOfCC)\n",
    "    def __str__(self):\n",
    "        return \"%s, %s, %s, %s, %s\" % (self.numOfID, self.numOfIP, self.numOfPay, self.avgPay, self.numOfCC)\n",
    "\n",
    "\n",
    "for x in range(len(lines)):\n",
    "    \n",
    "    #Reads log as a list entry\n",
    "    lister = lines[x]\n",
    "    #Isolates where the IP Address and User ID is located\n",
    "    ipAndUser = re.search(generalRegex, lister)\n",
    "    ipAndUserText = ipAndUser.group(0)\n",
    "    \n",
    "    #Gets all User IDs\n",
    "    userID = re.search(userIDRegex, ipAndUserText)\n",
    "    #Gets all IP Addresses \n",
    "    ipAddress = re.search(ipRegex, ipAndUserText)\n",
    "    \n",
    "    #Isolates JSON object\n",
    "    logJson = re.search(jsonRegex, lister)\n",
    "    jsonResponse = logJson.group(0)\n",
    "    \n",
    "    #Replaces and fixes invalid JSON\n",
    "    jsonResponse = jsonResponse.replace(\"****MASKED****\",\"\\\"****MASKED****\\\"\")\n",
    "    \n",
    "    #Converts log strings into actual JSON\n",
    "    jsonedLog = json.loads(jsonResponse)\n",
    "    \n",
    "    #Reads each individual log statement and grabs the data needed\n",
    "    try:\n",
    "        accountNumber = jsonedLog['payments'][0]['accountNumber']\n",
    "        usableUserID = userID.group(0)\n",
    "        usableIP = ipAddress.group(0)\n",
    "        paymentMade = float(jsonedLog['payments'][0]['amountTendered'])\n",
    "        endingBalance = float(jsonedLog['payments'][0]['balanceEnd'])\n",
    "        usableCC = jsonedLog['payments'][0]['cardNumberEncrypted']\n",
    "\n",
    "    #Error handling/ exception catching\n",
    "    except Exception as error:\n",
    "        if str(error) == \"\\'payments\\'\":\n",
    "            accountNumber = 'None'\n",
    "            paymentMade = \"NoPaymentsKey\"\n",
    "            endingBalance = \"NoPaymentsKey\"\n",
    "            usableCC = \"NoPaymentsKey\"\n",
    "            usableUserID = userID.group(0)\n",
    "            usableIP = ipAddress.group(0)\n",
    "        elif str(error) == \"\\'amountTendered\\'\":\n",
    "            try:\n",
    "                paymentMade = \"NoTendered\"\n",
    "                endingBalance = float(jsonedLog['payments'][0]['balanceEnd'])\n",
    "                usableCC = jsonedLog['payments'][0]['cardNumberEncrypted']\n",
    "            except Exception as error1:\n",
    "                if str(error1) == \"\\'balanceEnd\\'\":\n",
    "                    try:\n",
    "                        endingBalance = \"NoEnding\"\n",
    "                        usableCC = jsonedLog['payments'][0]['cardNumberEncrypted']\n",
    "                    except Exception as error2:\n",
    "                        if str(error2) == \"\\'cardNumberEncrypted\\'\":\n",
    "                            usableCC = \"NoCC\"\n",
    "                elif str(error1) == \"\\'cardNumberEncrypted\\'\":\n",
    "                    usableCC = \"NoCC\"\n",
    "        elif str(error) == \"\\'balanceEnd\\'\":\n",
    "            try:\n",
    "                endingBalance = \"NoEnding\"\n",
    "                usableCC = jsonedLog['payments'][0]['cardNumberEncrypted']\n",
    "            except Exception as error1:\n",
    "                if str(error1) == \"\\'cardNumberEncrypted\\'\":\n",
    "                    usableCC = \"NoCC\"\n",
    "        elif str(error) == \"\\'cardNumberEncrypted\\'\":\n",
    "            usableCC = \"NoCC\"\n",
    "    \n",
    "    #Creating 'accountInfo' object and assigning values generated above\n",
    "    accountList = accountInfo(usableUserID, usableIP, paymentMade, endingBalance, usableCC)\n",
    "    \n",
    "    #Searches if there is already an account with the same account number and combines the information under one account\n",
    "    if str(accountNumber) in dictOfAccts:\n",
    "        if str(accountNumber) != 'None':\n",
    "            accountList.addID(dictOfAccts[accountNumber].getID())\n",
    "            accountList.addIP(dictOfAccts[accountNumber].getIP())\n",
    "            accountList.addPay(dictOfAccts[accountNumber].getPay())\n",
    "            accountList.addAvgPay(dictOfAccts[accountNumber].getAvgPay())\n",
    "            accountList.addCC(dictOfAccts[accountNumber].getCC())\n",
    "    \n",
    "    #Makes the accountList variable a value to our account number key\n",
    "    dictOfAccts[accountNumber] = accountList\n",
    "    \n",
    "#Counts the number of elements in each section of our object and returns an integer\n",
    "#Basically preping the data for the model\n",
    "for k in dictOfAccts:\n",
    "    dictOfAccts[str(k)].idCounter()\n",
    "    dictOfAccts[str(k)].ipCounter()\n",
    "    dictOfAccts[str(k)].payCounter()\n",
    "    dictOfAccts[str(k)].avgPayCounter()\n",
    "    dictOfAccts[str(k)].ccCounter()\n",
    "\n",
    "#Viewing data changes and testing time efficiency of parser\n",
    "#print(dictOfAccts)\n",
    "#print(\" \")  \n",
    "#print(time.time()-start_time)  \n",
    "\n",
    "#Closes out of file that was being parsed   \n",
    "file.close()"
   ]
  },
  {
   "cell_type": "code",
   "execution_count": 220,
   "metadata": {
    "collapsed": true
   },
   "outputs": [],
   "source": [
    "dataHolder = []\n",
    "targetList = []\n",
    "predictionData = []"
   ]
  },
  {
   "cell_type": "code",
   "execution_count": 221,
   "metadata": {
    "collapsed": true
   },
   "outputs": [],
   "source": [
    "for x in range(30000):\n",
    "    tempData = []\n",
    "    fraudCount = 0 #The \"False\" counter\n",
    "    \n",
    "    numID = randint(1, 7) #Number of User IDs Per Account\n",
    "    tempData.append(numID)\n",
    "    if numID > 5:\n",
    "        fraudCount = fraudCount + 1\n",
    "    \n",
    "    numIP = randint(1, 9) #Number of IPs for Account\n",
    "    tempData.append(numIP)\n",
    "    if numIP > 5:\n",
    "        fraudCount = fraudCount + 1\n",
    "    \n",
    "    numPay = randint(0, 9) #Number of Payments\n",
    "    tempData.append(numPay)\n",
    "    if numPay > 5:\n",
    "        fraudCount = fraudCount + 1\n",
    "    \n",
    "    avgPay = randint(0.00, 10000.00) #Average Amount of Payment\n",
    "    tempData.append(avgPay)\n",
    "    if avgPay < 1.00 or avgPay > 1000.00:\n",
    "        fraudCount = fraudCount + 1\n",
    "        \n",
    "    numCC = randint(1, 9) #Number of Credit Cards Used\n",
    "    tempData.append(numCC)\n",
    "    if numCC > 5:\n",
    "        fraudCount = fraudCount + 1\n",
    "    \n",
    "    if fraudCount > 5 or numPay > 7 or numCC > 7 or numIP > 7:\n",
    "        targetList.append(2)\n",
    "    elif fraudCount > 2 and fraudCount <= 5:\n",
    "        targetList.append(1)\n",
    "    else:\n",
    "        targetList.append(0)\n",
    "    \n",
    "    dataHolder.append(tempData)"
   ]
  },
  {
   "cell_type": "code",
   "execution_count": 222,
   "metadata": {
    "collapsed": true
   },
   "outputs": [],
   "source": [
    "for key, value in dictOfAccts.items():\n",
    "    tempData = []\n",
    "    \n",
    "    numID = value.getID() #Number of User IDs Per Account\n",
    "    tempData.append(numID)\n",
    "        \n",
    "    numIP = value.getIP() #Number of IPs for Account\n",
    "    tempData.append(numIP)\n",
    "    \n",
    "    numPay = value.getPay() #Number of Payments\n",
    "    tempData.append(numPay)\n",
    "    \n",
    "    avgPay = value.getAvgPay() #Average Amount of Payment\n",
    "    tempData.append(avgPay)\n",
    "        \n",
    "    numCC = value.getCC() #Number of Credit Cards Used\n",
    "    tempData.append(numCC)\n",
    "    \n",
    "    predictionData.append(tempData)"
   ]
  },
  {
   "cell_type": "code",
   "execution_count": 223,
   "metadata": {
    "collapsed": true
   },
   "outputs": [],
   "source": [
    "data = np.array(dataHolder)"
   ]
  },
  {
   "cell_type": "code",
   "execution_count": 224,
   "metadata": {
    "collapsed": true
   },
   "outputs": [],
   "source": [
    "target = np.array(targetList)"
   ]
  },
  {
   "cell_type": "code",
   "execution_count": 225,
   "metadata": {
    "collapsed": true
   },
   "outputs": [],
   "source": [
    "predictData = np.array(predictionData)"
   ]
  },
  {
   "cell_type": "code",
   "execution_count": 226,
   "metadata": {
    "collapsed": true
   },
   "outputs": [],
   "source": [
    "from sklearn.model_selection import train_test_split"
   ]
  },
  {
   "cell_type": "code",
   "execution_count": 227,
   "metadata": {
    "collapsed": true
   },
   "outputs": [],
   "source": [
    "xTrain, xTest, yTrain, yTest = train_test_split(data, target, test_size=0.3)"
   ]
  },
  {
   "cell_type": "code",
   "execution_count": 228,
   "metadata": {
    "collapsed": true
   },
   "outputs": [],
   "source": [
    "from sklearn.preprocessing import MinMaxScaler"
   ]
  },
  {
   "cell_type": "code",
   "execution_count": 229,
   "metadata": {
    "collapsed": true
   },
   "outputs": [],
   "source": [
    "scaler = MinMaxScaler()"
   ]
  },
  {
   "cell_type": "code",
   "execution_count": 230,
   "metadata": {},
   "outputs": [
    {
     "name": "stderr",
     "output_type": "stream",
     "text": [
      "C:\\Users\\riyaimam\\AppData\\Local\\Continuum\\anaconda3\\envs\\tfdeeplearning\\lib\\site-packages\\sklearn\\utils\\validation.py:444: DataConversionWarning: Data with input dtype int32 was converted to float64 by MinMaxScaler.\n",
      "  warnings.warn(msg, DataConversionWarning)\n"
     ]
    }
   ],
   "source": [
    "scaledXTrain = scaler.fit_transform(xTrain)"
   ]
  },
  {
   "cell_type": "code",
   "execution_count": 231,
   "metadata": {
    "collapsed": true
   },
   "outputs": [],
   "source": [
    "scaledXTest = scaler.transform(xTest)"
   ]
  },
  {
   "cell_type": "code",
   "execution_count": 232,
   "metadata": {
    "collapsed": true
   },
   "outputs": [],
   "source": [
    "scaledPredict = scaler.transform(predictData)"
   ]
  },
  {
   "cell_type": "code",
   "execution_count": 233,
   "metadata": {
    "collapsed": true
   },
   "outputs": [],
   "source": [
    "import tensorflow as tf"
   ]
  },
  {
   "cell_type": "code",
   "execution_count": 234,
   "metadata": {
    "collapsed": true
   },
   "outputs": [],
   "source": [
    "from tensorflow import estimator"
   ]
  },
  {
   "cell_type": "code",
   "execution_count": 235,
   "metadata": {
    "collapsed": true
   },
   "outputs": [],
   "source": [
    "featCols = [tf.feature_column.numeric_column(\"x\", shape=[5])]"
   ]
  },
  {
   "cell_type": "code",
   "execution_count": 236,
   "metadata": {},
   "outputs": [
    {
     "name": "stdout",
     "output_type": "stream",
     "text": [
      "INFO:tensorflow:Using default config.\n",
      "INFO:tensorflow:Using config: {'_save_checkpoints_secs': 600, '_keep_checkpoint_max': 5, '_save_checkpoints_steps': None, '_log_step_count_steps': 100, '_save_summary_steps': 100, '_tf_random_seed': 1, '_model_dir': 'Fraud Detection 2 Checkpoints', '_keep_checkpoint_every_n_hours': 10000, '_session_config': None}\n"
     ]
    }
   ],
   "source": [
    "model = estimator.DNNClassifier(hidden_units=[5,5,5], \n",
    "                               feature_columns=featCols,\n",
    "                               model_dir='Fraud Detection 2 Checkpoints',\n",
    "                               n_classes=3,\n",
    "                               optimizer=tf.train.AdamOptimizer(learning_rate=0.01))"
   ]
  },
  {
   "cell_type": "code",
   "execution_count": 237,
   "metadata": {
    "collapsed": true
   },
   "outputs": [],
   "source": [
    "inputFunc = estimator.inputs.numpy_input_fn(x={'x':scaledXTrain},y=yTrain,shuffle=True,batch_size=10,num_epochs=250)"
   ]
  },
  {
   "cell_type": "code",
   "execution_count": 238,
   "metadata": {},
   "outputs": [
    {
     "name": "stdout",
     "output_type": "stream",
     "text": [
      "INFO:tensorflow:Create CheckpointSaverHook.\n",
      "INFO:tensorflow:Restoring parameters from Fraud Detection 2 Checkpoints\\model.ckpt-27000\n",
      "INFO:tensorflow:Saving checkpoints for 27001 into Fraud Detection 2 Checkpoints\\model.ckpt.\n",
      "INFO:tensorflow:step = 27001, loss = 2.01231\n",
      "INFO:tensorflow:global_step/sec: 266.573\n",
      "INFO:tensorflow:step = 27101, loss = 0.192991 (0.371 sec)\n",
      "INFO:tensorflow:global_step/sec: 253.574\n",
      "INFO:tensorflow:step = 27201, loss = 0.200583 (0.394 sec)\n",
      "INFO:tensorflow:global_step/sec: 260.412\n",
      "INFO:tensorflow:step = 27301, loss = 1.18026 (0.392 sec)\n",
      "INFO:tensorflow:global_step/sec: 245.09\n",
      "INFO:tensorflow:step = 27401, loss = 0.123013 (0.412 sec)\n",
      "INFO:tensorflow:Saving checkpoints for 27500 into Fraud Detection 2 Checkpoints\\model.ckpt.\n",
      "INFO:tensorflow:Loss for final step: 0.0210197.\n"
     ]
    },
    {
     "data": {
      "text/plain": [
       "<tensorflow.python.estimator.canned.dnn.DNNClassifier at 0x29d308f2f98>"
      ]
     },
     "execution_count": 238,
     "metadata": {},
     "output_type": "execute_result"
    }
   ],
   "source": [
    "model.train(input_fn=inputFunc,steps=500)"
   ]
  },
  {
   "cell_type": "code",
   "execution_count": 239,
   "metadata": {
    "collapsed": true
   },
   "outputs": [],
   "source": [
    "inputEval = estimator.inputs.numpy_input_fn(x={'x':scaledXTest},shuffle=False)"
   ]
  },
  {
   "cell_type": "code",
   "execution_count": 240,
   "metadata": {},
   "outputs": [
    {
     "name": "stdout",
     "output_type": "stream",
     "text": [
      "INFO:tensorflow:Restoring parameters from Fraud Detection 2 Checkpoints\\model.ckpt-27500\n"
     ]
    }
   ],
   "source": [
    "predictionGen = list(model.predict(input_fn=inputEval))"
   ]
  },
  {
   "cell_type": "code",
   "execution_count": 241,
   "metadata": {
    "collapsed": true
   },
   "outputs": [],
   "source": [
    "predictions = [preds['class_ids'][0] for preds in predictionGen]"
   ]
  },
  {
   "cell_type": "code",
   "execution_count": 242,
   "metadata": {
    "collapsed": true
   },
   "outputs": [],
   "source": [
    "from sklearn.metrics import classification_report\n",
    "from sklearn.metrics import confusion_matrix"
   ]
  },
  {
   "cell_type": "code",
   "execution_count": 243,
   "metadata": {},
   "outputs": [
    {
     "name": "stdout",
     "output_type": "stream",
     "text": [
      "             precision    recall  f1-score   support\n",
      "\n",
      "          0       0.98      0.92      0.95      3070\n",
      "          1       0.83      0.95      0.88      1237\n",
      "          2       1.00      1.00      1.00      4693\n",
      "\n",
      "avg / total       0.97      0.97      0.97      9000\n",
      "\n"
     ]
    }
   ],
   "source": [
    "print(classification_report(yTest,predictions))"
   ]
  },
  {
   "cell_type": "code",
   "execution_count": 244,
   "metadata": {},
   "outputs": [
    {
     "name": "stdout",
     "output_type": "stream",
     "text": [
      "[[2825  245    0]\n",
      " [  61 1176    0]\n",
      " [   0    0 4693]]\n"
     ]
    }
   ],
   "source": [
    "print(confusion_matrix(yTest,predictions))"
   ]
  },
  {
   "cell_type": "code",
   "execution_count": 245,
   "metadata": {
    "collapsed": true
   },
   "outputs": [],
   "source": [
    "inputPredict = estimator.inputs.numpy_input_fn(x={'x':scaledPredict},shuffle=False)"
   ]
  },
  {
   "cell_type": "code",
   "execution_count": 246,
   "metadata": {},
   "outputs": [
    {
     "name": "stdout",
     "output_type": "stream",
     "text": [
      "INFO:tensorflow:Restoring parameters from Fraud Detection 2 Checkpoints\\model.ckpt-27500\n"
     ]
    }
   ],
   "source": [
    "predictGen = list(model.predict(input_fn=inputPredict))"
   ]
  },
  {
   "cell_type": "code",
   "execution_count": 247,
   "metadata": {
    "collapsed": true
   },
   "outputs": [],
   "source": [
    "predicts = [preds['class_ids'][0] for preds in predictGen]"
   ]
  },
  {
   "cell_type": "code",
   "execution_count": 248,
   "metadata": {},
   "outputs": [
    {
     "name": "stdout",
     "output_type": "stream",
     "text": [
      "Account Number: 061656917\n",
      "Attributes: 1, 1, 15, 123.86666666666667, 79\n",
      "Score: 2\n",
      "\n",
      "\n",
      "Account Number: 067847012\n",
      "Attributes: 1, 1, 5, 0.0, 11\n",
      "Score: 2\n",
      "\n",
      "\n",
      "Account Number: 140373001\n",
      "Attributes: 1, 1, 7, 62.144999999999996, 7\n",
      "Score: 1\n",
      "\n",
      "\n",
      "Account Number: 751254517\n",
      "Attributes: 1, 1, 11, 408.51, 11\n",
      "Score: 2\n",
      "\n",
      "\n",
      "Account Number: 044641824\n",
      "Attributes: 1, 1, 47, 412.76000000000005, 106\n",
      "Score: 2\n",
      "\n",
      "\n"
     ]
    }
   ],
   "source": [
    "count = 0\n",
    "for key, value in dictOfAccts.items():\n",
    "    dictOfAccts[key] = predicts[count]\n",
    "    key = str(key)\n",
    "    value = str(value)\n",
    "    score = str(dictOfAccts[key])\n",
    "    if (dictOfAccts[key] == 1 or dictOfAccts[key] == 2):\n",
    "        print(\"Account Number: \" + key + \"\\n\" + \"Attributes: \" + value + \"\\n\" + \"Score: \" + score + \"\\n\\n\")\n",
    "    count = count + 1"
   ]
  }
 ],
 "metadata": {
  "kernelspec": {
   "display_name": "Python 3",
   "language": "python",
   "name": "python3"
  },
  "language_info": {
   "codemirror_mode": {
    "name": "ipython",
    "version": 3
   },
   "file_extension": ".py",
   "mimetype": "text/x-python",
   "name": "python",
   "nbconvert_exporter": "python",
   "pygments_lexer": "ipython3",
   "version": "3.5.4"
  }
 },
 "nbformat": 4,
 "nbformat_minor": 2
}
